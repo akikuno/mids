{
 "cells": [
  {
   "cell_type": "markdown",
   "metadata": {},
   "source": [
    "# 今回の取組\n"
   ]
  },
  {
   "cell_type": "markdown",
   "metadata": {},
   "source": [
    "- 以下のエラーを修正していきます\n",
    "\n",
    "```\n",
    "FAILED tests/test_integration.py::test_valueerror_qscore - AttributeError: 'dict' object has no attribute 'issubset'\n",
    "FAILED tests/test_integration.py::test_integration_midsv - AttributeError: 'dict' object has no attribute 'issubset'\n",
    "FAILED tests/test_integration.py::test_integration_cssplit - AttributeError: 'dict' object has no attribute 'issubset'\n",
    "FAILED tests/test_integration.py::test_integration_all_true - AttributeError: 'dict' object has no attribute 'issubset'\n",
    "FAILED tests/test_integration.py::test_integration_cssplit_and_qual - AttributeError: 'dict' object has no attribute 'issubset'\n",
    "FAILED tests/test_integration.py::test_integration_real_sam - AttributeError: 'dict' object has no attribute 'issubset'\n",
    "FAILED tests/test_integration.py::test_integration_real_splicing - AttributeError: 'dict' object has no attribute 'issubset'\n",
    "FAILED tests/test_integration.py::test_integration_eachcomponent - TypeError: unsupported operand type(s) for -: 'set' and 'dict'\n",
    "FAILED tests/test_validate.py::test_validate_alignments_cs_short - ValueError: Input does not have long-formatted cs tag\n",
    "FAILED tests/test_validate.py::test_validate_headers_no_header - ValueError: Input does not have @SQ header\n",
    "FAILED tests/test_validate.py::test_validate_alignments_no_alignment - ValueError: No alignment information\n",
    "FAILED tests/test_validate.py::test_validate_alignments_no_cslong - ValueError: Input does not have long-formatted cs tag\n",
    "```"
   ]
  },
  {
   "cell_type": "markdown",
   "metadata": {},
   "source": [
    "## いつものセットアップ\n"
   ]
  },
  {
   "cell_type": "markdown",
   "metadata": {},
   "source": [
    "-   作業ディレクトリを`midsv`が見えるディレクトリに移動します\n"
   ]
  },
  {
   "cell_type": "code",
   "execution_count": 9,
   "metadata": {},
   "outputs": [
    {
     "name": "stdout",
     "output_type": "stream",
     "text": [
      "/mnt/e/Research/others/midsv-developments\n"
     ]
    }
   ],
   "source": [
    "! pwd"
   ]
  },
  {
   "cell_type": "code",
   "execution_count": 10,
   "metadata": {},
   "outputs": [
    {
     "name": "stdout",
     "output_type": "stream",
     "text": [
      "/mnt/e/Research/others/midsv-developments\n"
     ]
    }
   ],
   "source": [
    "import sys\n",
    "import os\n",
    "from pathlib import Path\n",
    "\n",
    "# `midsv`が見える階層まで移動する\n",
    "target_dir = \"midsv\"\n",
    "path_current = Path.cwd()\n",
    "while path_current.stem:\n",
    "    if any(True for p in path_current.iterdir() if p.stem == target_dir):\n",
    "        break\n",
    "    path_current = path_current.parent\n",
    "    if not path_current.stem:\n",
    "        raise FileNotFoundError(f\"{target_dir} directory not found\")\n",
    "\n",
    "os.chdir(path_current)\n",
    "print(Path.cwd())"
   ]
  },
  {
   "cell_type": "markdown",
   "metadata": {},
   "source": [
    "-   `midsv/src`の PATH を通します\n"
   ]
  },
  {
   "cell_type": "code",
   "execution_count": 11,
   "metadata": {},
   "outputs": [],
   "source": [
    "PATH_SRC = Path.joinpath(path_current, \"midsv\")\n",
    "sys.path.append(str(PATH_SRC))\n",
    "sys.path.append(str(Path.joinpath(PATH_SRC, \"src\")))"
   ]
  },
  {
   "cell_type": "markdown",
   "metadata": {},
   "source": [
    "-   主要なパッケージをインストール＆インポートします\n"
   ]
  },
  {
   "cell_type": "code",
   "execution_count": 12,
   "metadata": {},
   "outputs": [],
   "source": [
    "%%bash\n",
    "pip install -q -U pip\n",
    "(cd midsv && pip install -qe .)\n",
    "# pip uninstall -y DAJIN2\n"
   ]
  },
  {
   "cell_type": "code",
   "execution_count": 13,
   "metadata": {},
   "outputs": [],
   "source": [
    "P = print\n",
    "from pprint import pprint as PP\n",
    "from collections import Counter as C\n",
    "\n",
    "import re\n",
    "import midsv\n",
    "import pickle\n",
    "import datetime\n",
    "from itertools import groupby\n",
    "from typing import NamedTuple\n",
    "from collections import defaultdict, Counter"
   ]
  },
  {
   "cell_type": "markdown",
   "metadata": {},
   "source": [
    "# 実験 00\n"
   ]
  },
  {
   "cell_type": "code",
   "execution_count": 15,
   "metadata": {},
   "outputs": [
    {
     "ename": "AttributeError",
     "evalue": "'dict' object has no attribute 'issubset'",
     "output_type": "error",
     "traceback": [
      "\u001b[0;31m---------------------------------------------------------------------------\u001b[0m",
      "\u001b[0;31mAttributeError\u001b[0m                            Traceback (most recent call last)",
      "Cell \u001b[0;32mIn[15], line 3\u001b[0m\n\u001b[1;32m      1\u001b[0m sampath \u001b[38;5;241m=\u001b[39m Path(\u001b[38;5;124m\"\u001b[39m\u001b[38;5;124mmidsv\u001b[39m\u001b[38;5;124m\"\u001b[39m, \u001b[38;5;124m\"\u001b[39m\u001b[38;5;124mtests\u001b[39m\u001b[38;5;124m\"\u001b[39m, \u001b[38;5;124m\"\u001b[39m\u001b[38;5;124mdata\u001b[39m\u001b[38;5;124m\"\u001b[39m, \u001b[38;5;124m\"\u001b[39m\u001b[38;5;124msam_from_fasta\u001b[39m\u001b[38;5;124m\"\u001b[39m, \u001b[38;5;124m\"\u001b[39m\u001b[38;5;124mcontrol.sam\u001b[39m\u001b[38;5;124m\"\u001b[39m)\n\u001b[1;32m      2\u001b[0m sam \u001b[38;5;241m=\u001b[39m midsv\u001b[38;5;241m.\u001b[39mio\u001b[38;5;241m.\u001b[39mread_sam(\u001b[38;5;28mstr\u001b[39m(sampath))\n\u001b[0;32m----> 3\u001b[0m _ \u001b[38;5;241m=\u001b[39m \u001b[43mmidsv\u001b[49m\u001b[38;5;241;43m.\u001b[39;49m\u001b[43mtransform\u001b[49m\u001b[43m(\u001b[49m\u001b[43msam\u001b[49m\u001b[43m,\u001b[49m\u001b[43m \u001b[49m\u001b[43mmidsv\u001b[49m\u001b[38;5;241;43m=\u001b[39;49m\u001b[38;5;28;43;01mTrue\u001b[39;49;00m\u001b[43m,\u001b[49m\u001b[43m \u001b[49m\u001b[43mcssplit\u001b[49m\u001b[38;5;241;43m=\u001b[39;49m\u001b[38;5;28;43;01mTrue\u001b[39;49;00m\u001b[43m,\u001b[49m\u001b[43m \u001b[49m\u001b[43mqscore\u001b[49m\u001b[38;5;241;43m=\u001b[39;49m\u001b[38;5;28;43;01mTrue\u001b[39;49;00m\u001b[43m)\u001b[49m\n",
      "File \u001b[0;32m/mnt/e/Research/others/midsv-developments/midsv/src/midsv/main.py:34\u001b[0m, in \u001b[0;36mtransform\u001b[0;34m(sam, midsv, cssplit, qscore, keep)\u001b[0m\n\u001b[1;32m     31\u001b[0m \u001b[38;5;28;01melse\u001b[39;00m:\n\u001b[1;32m     32\u001b[0m     \u001b[38;5;28;01mraise\u001b[39;00m \u001b[38;5;167;01mValueError\u001b[39;00m(\u001b[38;5;124m\"\u001b[39m\u001b[38;5;124mEither midsv or cssplit must be True\u001b[39m\u001b[38;5;124m\"\u001b[39m)\n\u001b[0;32m---> 34\u001b[0m \u001b[38;5;28;01mif\u001b[39;00m keep \u001b[38;5;241m!=\u001b[39m \u001b[38;5;28mset\u001b[39m() \u001b[38;5;129;01mand\u001b[39;00m \u001b[38;5;129;01mnot\u001b[39;00m \u001b[43mkeep\u001b[49m\u001b[38;5;241;43m.\u001b[39;49m\u001b[43missubset\u001b[49m({\u001b[38;5;124m\"\u001b[39m\u001b[38;5;124mFLAG\u001b[39m\u001b[38;5;124m\"\u001b[39m, \u001b[38;5;124m\"\u001b[39m\u001b[38;5;124mPOS\u001b[39m\u001b[38;5;124m\"\u001b[39m, \u001b[38;5;124m\"\u001b[39m\u001b[38;5;124mSEQ\u001b[39m\u001b[38;5;124m\"\u001b[39m, \u001b[38;5;124m\"\u001b[39m\u001b[38;5;124mQUAL\u001b[39m\u001b[38;5;124m\"\u001b[39m, \u001b[38;5;124m\"\u001b[39m\u001b[38;5;124mCIGAR\u001b[39m\u001b[38;5;124m\"\u001b[39m, \u001b[38;5;124m\"\u001b[39m\u001b[38;5;124mCSTAG\u001b[39m\u001b[38;5;124m\"\u001b[39m}):\n\u001b[1;32m     35\u001b[0m     \u001b[38;5;28;01mraise\u001b[39;00m \u001b[38;5;167;01mValueError\u001b[39;00m(\u001b[38;5;124m\"\u001b[39m\u001b[38;5;124m'\u001b[39m\u001b[38;5;124mkeep\u001b[39m\u001b[38;5;124m'\u001b[39m\u001b[38;5;124m must be a subset of \u001b[39m\u001b[38;5;124m{\u001b[39m\u001b[38;5;124m'\u001b[39m\u001b[38;5;124mFLAG\u001b[39m\u001b[38;5;124m'\u001b[39m\u001b[38;5;124m, \u001b[39m\u001b[38;5;124m'\u001b[39m\u001b[38;5;124mPOS\u001b[39m\u001b[38;5;124m'\u001b[39m\u001b[38;5;124m, \u001b[39m\u001b[38;5;124m'\u001b[39m\u001b[38;5;124mSEQ\u001b[39m\u001b[38;5;124m'\u001b[39m\u001b[38;5;124m, \u001b[39m\u001b[38;5;124m'\u001b[39m\u001b[38;5;124mQUAL\u001b[39m\u001b[38;5;124m'\u001b[39m\u001b[38;5;124m, \u001b[39m\u001b[38;5;124m'\u001b[39m\u001b[38;5;124mCIGAR\u001b[39m\u001b[38;5;124m'\u001b[39m\u001b[38;5;124m, \u001b[39m\u001b[38;5;124m'\u001b[39m\u001b[38;5;124mCSTAG\u001b[39m\u001b[38;5;124m'\u001b[39m\u001b[38;5;124m}\u001b[39m\u001b[38;5;124m\"\u001b[39m)\n\u001b[1;32m     37\u001b[0m sam \u001b[38;5;241m=\u001b[39m \u001b[38;5;28mlist\u001b[39m(sam)\n",
      "\u001b[0;31mAttributeError\u001b[0m: 'dict' object has no attribute 'issubset'"
     ]
    }
   ],
   "source": [
    "sampath = Path(\"midsv\", \"tests\", \"data\", \"sam_from_fasta\", \"control.sam\")\n",
    "sam = midsv.io.read_sam(str(sampath))\n",
    "_ = midsv.transform(sam, midsv=True, cssplit=True, qscore=True)"
   ]
  },
  {
   "cell_type": "code",
   "execution_count": null,
   "metadata": {},
   "outputs": [],
   "source": []
  },
  {
   "cell_type": "code",
   "execution_count": null,
   "metadata": {},
   "outputs": [],
   "source": []
  },
  {
   "cell_type": "markdown",
   "metadata": {},
   "source": [
    "# いまここ 😀\n"
   ]
  },
  {
   "cell_type": "code",
   "execution_count": null,
   "metadata": {},
   "outputs": [],
   "source": []
  },
  {
   "cell_type": "markdown",
   "metadata": {},
   "source": [
    "# 🔬🔬🔬 単体テストを忘れないで！🔬🔬🔬\n"
   ]
  },
  {
   "cell_type": "code",
   "execution_count": 17,
   "metadata": {},
   "outputs": [],
   "source": [
    "%%bash\n",
    "\n",
    "(\n",
    "    cd midsv &&\n",
    "    export PYTHONPATH=\"$PYTHONPATH:./src\" &&\n",
    "    pytest tests ||\n",
    "    exit 1\n",
    ")\n"
   ]
  }
 ],
 "metadata": {
  "kernelspec": {
   "display_name": "env-midsv",
   "language": "python",
   "name": "python3"
  },
  "language_info": {
   "codemirror_mode": {
    "name": "ipython",
    "version": 3
   },
   "file_extension": ".py",
   "mimetype": "text/x-python",
   "name": "python",
   "nbconvert_exporter": "python",
   "pygments_lexer": "ipython3",
   "version": "3.12.8"
  }
 },
 "nbformat": 4,
 "nbformat_minor": 2
}
